{
 "cells": [
  {
   "cell_type": "code",
   "execution_count": 1,
   "id": "499007c6",
   "metadata": {},
   "outputs": [],
   "source": [
    "from tensorflow.keras.preprocessing.image import ImageDataGenerator\n",
    "from tensorflow.keras.applications import MobileNetV2\n",
    "from tensorflow.keras.layers import AveragePooling2D\n",
    "from tensorflow.keras.layers import Dropout\n",
    "from tensorflow.keras.layers import Flatten\n",
    "from tensorflow.keras.layers import Dense\n",
    "from tensorflow.keras.layers import Input\n",
    "from tensorflow.keras.models import Model\n",
    "from tensorflow.keras.optimizers import Adam\n",
    "from tensorflow.keras.applications.mobilenet_v2 import preprocess_input\n",
    "from tensorflow.keras.preprocessing.image import img_to_array\n",
    "from tensorflow.keras.preprocessing.image import load_img\n",
    "from tensorflow.keras.utils import to_categorical\n",
    "from sklearn.preprocessing import LabelBinarizer\n",
    "from sklearn.model_selection import train_test_split\n",
    "from sklearn.metrics import classification_report\n",
    "from imutils import paths\n",
    "import pandas as pd\n",
    "import matplotlib.pyplot as plt\n",
    "import numpy as np\n",
    "import os"
   ]
  },
  {
   "cell_type": "code",
   "execution_count": 1,
   "id": "986b16a7",
   "metadata": {},
   "outputs": [
    {
     "name": "stdout",
     "output_type": "stream",
     "text": [
      "2.9.1\n",
      "2.9.0\n"
     ]
    }
   ],
   "source": [
    "import tensorflow as tf\n",
    "import keras\n",
    "print(tf.__version__)\n",
    "print(keras.__version__)"
   ]
  },
  {
   "cell_type": "code",
   "execution_count": 2,
   "id": "131944bf",
   "metadata": {},
   "outputs": [],
   "source": [
    "initLayer = 1e-4\n",
    "epochs = 5\n",
    "batch = 32"
   ]
  },
  {
   "cell_type": "code",
   "execution_count": 5,
   "id": "24568617",
   "metadata": {},
   "outputs": [
    {
     "name": "stderr",
     "output_type": "stream",
     "text": [
      "C:\\ProgramData\\Anaconda3\\lib\\site-packages\\PIL\\Image.py:962: UserWarning: Palette images with Transparency expressed in bytes should be converted to RGBA images\n",
      "  warnings.warn(\n"
     ]
    }
   ],
   "source": [
    "dirc = 'DataSet'\n",
    "cat = ['withMask','withoutMask']\n",
    "data = []\n",
    "labels = []\n",
    "for cate in cat:\n",
    "    path = os.path.join(dirc,cate)\n",
    "    for img in os.listdir(path):\n",
    "        img_path = os.path.join(path,img)\n",
    "        image = load_img(img_path,target_size=(224,224))\n",
    "        image = img_to_array(image)\n",
    "        image = preprocess_input(image)\n",
    "        data.append(image)\n",
    "        labels.append(cate)"
   ]
  },
  {
   "cell_type": "code",
   "execution_count": 6,
   "id": "b81ec495",
   "metadata": {},
   "outputs": [],
   "source": [
    "lb = LabelBinarizer()\n",
    "labels = lb.fit_transform(labels)\n",
    "labels = to_categorical(labels)\n",
    "data = np.array(data,dtype='float32')\n",
    "labels = np.array(labels)"
   ]
  },
  {
   "cell_type": "code",
   "execution_count": 8,
   "id": "51105011",
   "metadata": {},
   "outputs": [
    {
     "data": {
      "text/plain": [
       "array([[1., 0.],\n",
       "       [1., 0.],\n",
       "       [1., 0.],\n",
       "       ...,\n",
       "       [0., 1.],\n",
       "       [0., 1.],\n",
       "       [0., 1.]], dtype=float32)"
      ]
     },
     "execution_count": 8,
     "metadata": {},
     "output_type": "execute_result"
    }
   ],
   "source": [
    "labels"
   ]
  },
  {
   "cell_type": "code",
   "execution_count": 10,
   "id": "8fc46b73",
   "metadata": {},
   "outputs": [],
   "source": [
    "X_train,X_test,y_train,y_test = train_test_split(data,labels,test_size=0.2,stratify=labels,random_state=20)"
   ]
  },
  {
   "cell_type": "code",
   "execution_count": 13,
   "id": "ade9fab9",
   "metadata": {},
   "outputs": [
    {
     "data": {
      "text/plain": [
       "array([[[[ 1.        ,  0.96862745,  1.        ],\n",
       "         [ 0.9529412 ,  1.        ,  1.        ],\n",
       "         [ 0.94509804,  1.        ,  1.        ],\n",
       "         ...,\n",
       "         [ 0.99215686,  1.        ,  1.        ],\n",
       "         [ 0.99215686,  1.        ,  1.        ],\n",
       "         [ 0.99215686,  1.        ,  1.        ]],\n",
       "\n",
       "        [[ 0.92941177,  1.        ,  0.94509804],\n",
       "         [ 0.81960785,  1.        ,  0.94509804],\n",
       "         [ 0.8117647 ,  1.        ,  0.92941177],\n",
       "         ...,\n",
       "         [ 0.79607844,  1.        ,  0.8980392 ],\n",
       "         [ 0.7882353 ,  1.        ,  0.8901961 ],\n",
       "         [ 0.79607844,  1.        ,  0.9137255 ]],\n",
       "\n",
       "        [[ 0.39607847,  0.92941177,  0.62352943],\n",
       "         [-0.11372548,  0.58431375,  0.22352946],\n",
       "         [-0.09803921,  0.6313726 ,  0.26274514],\n",
       "         ...,\n",
       "         [-0.27843136,  0.45882356,  0.04313731],\n",
       "         [-0.29411763,  0.4431373 ,  0.03529418],\n",
       "         [-0.27843136,  0.45882356,  0.06666672]],\n",
       "\n",
       "        ...,\n",
       "\n",
       "        [[-0.03529412,  0.03529418,  0.01176476],\n",
       "         [-0.99215686, -0.9607843 , -0.9529412 ],\n",
       "         [-0.96862745, -0.96862745, -0.9529412 ],\n",
       "         ...,\n",
       "         [-0.17647058, -0.34117645, -0.01960784],\n",
       "         [ 0.05882359, -0.12156862,  0.23921573],\n",
       "         [-0.60784316, -0.7019608 , -0.38823527]],\n",
       "\n",
       "        [[ 0.26274514,  0.30980396,  0.43529415],\n",
       "         [-0.6784314 , -0.70980394, -0.5764706 ],\n",
       "         [-0.70980394, -0.8117647 , -0.67058825],\n",
       "         ...,\n",
       "         [-0.6784314 , -0.77254903, -0.49019605],\n",
       "         [-0.46666664, -0.58431375, -0.35686272],\n",
       "         [-0.8352941 , -0.92941177, -0.77254903]],\n",
       "\n",
       "        [[ 0.41960788,  0.3411765 ,  0.6156863 ],\n",
       "         [-0.1607843 , -0.25490195,  0.13725495],\n",
       "         [-0.2235294 , -0.24705881,  0.12156868],\n",
       "         ...,\n",
       "         [-0.7411765 , -0.77254903, -0.6627451 ],\n",
       "         [-1.        , -1.        , -0.9607843 ],\n",
       "         [-1.        , -0.96862745, -1.        ]]],\n",
       "\n",
       "\n",
       "       [[[ 1.        ,  1.        ,  1.        ],\n",
       "         [ 1.        ,  1.        ,  1.        ],\n",
       "         [ 1.        ,  1.        ,  1.        ],\n",
       "         ...,\n",
       "         [ 1.        ,  1.        ,  1.        ],\n",
       "         [ 1.        ,  1.        ,  1.        ],\n",
       "         [ 1.        ,  1.        ,  1.        ]],\n",
       "\n",
       "        [[ 1.        ,  1.        ,  1.        ],\n",
       "         [ 1.        ,  1.        ,  1.        ],\n",
       "         [ 1.        ,  1.        ,  1.        ],\n",
       "         ...,\n",
       "         [ 1.        ,  1.        ,  1.        ],\n",
       "         [ 1.        ,  1.        ,  1.        ],\n",
       "         [ 1.        ,  1.        ,  1.        ]],\n",
       "\n",
       "        [[ 1.        ,  1.        ,  1.        ],\n",
       "         [ 1.        ,  1.        ,  1.        ],\n",
       "         [ 1.        ,  1.        ,  1.        ],\n",
       "         ...,\n",
       "         [ 1.        ,  1.        ,  1.        ],\n",
       "         [ 1.        ,  1.        ,  1.        ],\n",
       "         [ 1.        ,  1.        ,  1.        ]],\n",
       "\n",
       "        ...,\n",
       "\n",
       "        [[ 0.77254903,  0.77254903,  0.75686276],\n",
       "         [-0.9843137 , -0.9843137 , -0.96862745],\n",
       "         [-1.        , -1.        , -0.9607843 ],\n",
       "         ...,\n",
       "         [ 0.99215686,  0.99215686,  0.9764706 ],\n",
       "         [ 0.99215686,  0.99215686,  0.99215686],\n",
       "         [ 0.99215686,  0.99215686,  0.99215686]],\n",
       "\n",
       "        [[ 0.78039217,  0.78039217,  0.7647059 ],\n",
       "         [-0.99215686, -0.99215686, -0.9764706 ],\n",
       "         [-0.99215686, -1.        , -0.9607843 ],\n",
       "         ...,\n",
       "         [ 0.99215686,  0.99215686,  0.9764706 ],\n",
       "         [ 0.99215686,  0.99215686,  0.99215686],\n",
       "         [ 0.99215686,  0.99215686,  1.        ]],\n",
       "\n",
       "        [[ 0.78039217,  0.78039217,  0.78039217],\n",
       "         [-0.99215686, -0.99215686, -0.9764706 ],\n",
       "         [-0.99215686, -1.        , -0.9607843 ],\n",
       "         ...,\n",
       "         [ 0.99215686,  0.99215686,  0.9764706 ],\n",
       "         [ 0.99215686,  0.99215686,  0.99215686],\n",
       "         [ 0.99215686,  0.99215686,  1.        ]]],\n",
       "\n",
       "\n",
       "       [[[-0.1372549 , -0.44313723, -0.4980392 ],\n",
       "         [-0.1372549 , -0.42745095, -0.4980392 ],\n",
       "         [-0.1372549 , -0.42745095, -0.4980392 ],\n",
       "         ...,\n",
       "         [ 0.4431373 ,  0.16078436, -0.21568626],\n",
       "         [ 0.4431373 ,  0.16078436, -0.21568626],\n",
       "         [ 0.48235297,  0.20000005, -0.17647058]],\n",
       "\n",
       "        [[-0.1372549 , -0.44313723, -0.4980392 ],\n",
       "         [-0.1372549 , -0.42745095, -0.4980392 ],\n",
       "         [-0.1372549 , -0.42745095, -0.4980392 ],\n",
       "         ...,\n",
       "         [ 0.4431373 ,  0.16078436, -0.21568626],\n",
       "         [ 0.4431373 ,  0.16078436, -0.21568626],\n",
       "         [ 0.48235297,  0.20000005, -0.17647058]],\n",
       "\n",
       "        [[-0.15294117, -0.41960782, -0.4980392 ],\n",
       "         [-0.1607843 , -0.42745095, -0.5058824 ],\n",
       "         [-0.1607843 , -0.42745095, -0.5058824 ],\n",
       "         ...,\n",
       "         [ 0.56078434,  0.26274514, -0.10588235],\n",
       "         [ 0.56078434,  0.26274514, -0.10588235],\n",
       "         [ 0.47450984,  0.17647064, -0.19215685]],\n",
       "\n",
       "        ...,\n",
       "\n",
       "        [[-0.41176468, -0.60784316, -0.6627451 ],\n",
       "         [-0.41960782, -0.60784316, -0.6862745 ],\n",
       "         [-0.41960782, -0.60784316, -0.6862745 ],\n",
       "         ...,\n",
       "         [-0.5294118 , -0.7019608 , -0.8039216 ],\n",
       "         [-0.5294118 , -0.7019608 , -0.8039216 ],\n",
       "         [-0.5529412 , -0.7254902 , -0.827451  ]],\n",
       "\n",
       "        [[-0.3960784 , -0.5921569 , -0.64705884],\n",
       "         [-0.40392154, -0.6156863 , -0.67058825],\n",
       "         [-0.40392154, -0.6156863 , -0.67058825],\n",
       "         ...,\n",
       "         [-0.49019605, -0.6784314 , -0.77254903],\n",
       "         [-0.49019605, -0.6784314 , -0.77254903],\n",
       "         [-0.5058824 , -0.69411767, -0.7882353 ]],\n",
       "\n",
       "        [[-0.3960784 , -0.5921569 , -0.64705884],\n",
       "         [-0.40392154, -0.6156863 , -0.67058825],\n",
       "         [-0.40392154, -0.6156863 , -0.67058825],\n",
       "         ...,\n",
       "         [-0.49019605, -0.6784314 , -0.77254903],\n",
       "         [-0.49019605, -0.6784314 , -0.77254903],\n",
       "         [-0.5058824 , -0.69411767, -0.7882353 ]]],\n",
       "\n",
       "\n",
       "       ...,\n",
       "\n",
       "\n",
       "       [[[-0.23137254, -0.27058822, -0.52156866],\n",
       "         [-0.23137254, -0.27058822, -0.52156866],\n",
       "         [-0.24705881, -0.29411763, -0.54509807],\n",
       "         ...,\n",
       "         [ 0.5294118 ,  0.37254906, -0.01960784],\n",
       "         [ 0.49803925,  0.35686278, -0.03529412],\n",
       "         [ 0.49803925,  0.35686278, -0.03529412]],\n",
       "\n",
       "        [[-0.23137254, -0.27058822, -0.52156866],\n",
       "         [-0.23137254, -0.27058822, -0.52156866],\n",
       "         [-0.24705881, -0.29411763, -0.54509807],\n",
       "         ...,\n",
       "         [ 0.5294118 ,  0.37254906, -0.01960784],\n",
       "         [ 0.49803925,  0.35686278, -0.03529412],\n",
       "         [ 0.49803925,  0.35686278, -0.03529412]],\n",
       "\n",
       "        [[-0.23137254, -0.27843136, -0.5294118 ],\n",
       "         [-0.23137254, -0.27843136, -0.5294118 ],\n",
       "         [-0.24705881, -0.29411763, -0.54509807],\n",
       "         ...,\n",
       "         [ 0.5372549 ,  0.3803922 , -0.01176471],\n",
       "         [ 0.5058824 ,  0.36470592, -0.02745098],\n",
       "         [ 0.5058824 ,  0.36470592, -0.02745098]],\n",
       "\n",
       "        ...,\n",
       "\n",
       "        [[-0.23137254, -0.26274508, -0.49019605],\n",
       "         [-0.23137254, -0.26274508, -0.49019605],\n",
       "         [-0.23921567, -0.27058822, -0.4980392 ],\n",
       "         ...,\n",
       "         [-0.20784312, -0.2235294 , -0.32549018],\n",
       "         [-0.12941176, -0.14509803, -0.24705881],\n",
       "         [-0.12941176, -0.14509803, -0.24705881]],\n",
       "\n",
       "        [[-0.23137254, -0.26274508, -0.49019605],\n",
       "         [-0.23137254, -0.26274508, -0.49019605],\n",
       "         [-0.23921567, -0.27058822, -0.4980392 ],\n",
       "         ...,\n",
       "         [-0.2235294 , -0.23921567, -0.3333333 ],\n",
       "         [-0.14509803, -0.1607843 , -0.25490195],\n",
       "         [-0.14509803, -0.1607843 , -0.25490195]],\n",
       "\n",
       "        [[-0.23137254, -0.26274508, -0.49019605],\n",
       "         [-0.23137254, -0.26274508, -0.49019605],\n",
       "         [-0.23921567, -0.27058822, -0.4980392 ],\n",
       "         ...,\n",
       "         [-0.2235294 , -0.23921567, -0.3333333 ],\n",
       "         [-0.14509803, -0.1607843 , -0.25490195],\n",
       "         [-0.14509803, -0.1607843 , -0.25490195]]],\n",
       "\n",
       "\n",
       "       [[[-0.30196077, -0.3333333 , -0.19999999],\n",
       "         [-0.30196077, -0.3333333 , -0.19999999],\n",
       "         [-0.30196077, -0.3333333 , -0.19999999],\n",
       "         ...,\n",
       "         [-0.6156863 , -0.67058825, -0.5294118 ],\n",
       "         [-0.6156863 , -0.67058825, -0.5294118 ],\n",
       "         [-0.6156863 , -0.67058825, -0.5294118 ]],\n",
       "\n",
       "        [[-0.30196077, -0.3333333 , -0.19999999],\n",
       "         [-0.30196077, -0.3333333 , -0.19999999],\n",
       "         [-0.30196077, -0.3333333 , -0.19999999],\n",
       "         ...,\n",
       "         [-0.6156863 , -0.67058825, -0.5294118 ],\n",
       "         [-0.6156863 , -0.67058825, -0.5294118 ],\n",
       "         [-0.6156863 , -0.67058825, -0.5294118 ]],\n",
       "\n",
       "        [[-0.26274508, -0.2862745 , -0.15294117],\n",
       "         [-0.26274508, -0.2862745 , -0.15294117],\n",
       "         [-0.26274508, -0.2862745 , -0.15294117],\n",
       "         ...,\n",
       "         [-0.5764706 , -0.6313726 , -0.49019605],\n",
       "         [-0.5764706 , -0.6313726 , -0.49019605],\n",
       "         [-0.5764706 , -0.6313726 , -0.49019605]],\n",
       "\n",
       "        ...,\n",
       "\n",
       "        [[ 0.6156863 ,  0.38823533,  0.32549024],\n",
       "         [ 0.6156863 ,  0.38823533,  0.32549024],\n",
       "         [ 0.6156863 ,  0.38823533,  0.32549024],\n",
       "         ...,\n",
       "         [ 0.90588236,  0.70980394,  0.73333335],\n",
       "         [ 0.90588236,  0.70980394,  0.73333335],\n",
       "         [ 0.90588236,  0.70980394,  0.73333335]],\n",
       "\n",
       "        [[ 0.64705884,  0.4039216 ,  0.36470592],\n",
       "         [ 0.64705884,  0.4039216 ,  0.36470592],\n",
       "         [ 0.64705884,  0.4039216 ,  0.36470592],\n",
       "         ...,\n",
       "         [ 0.9607843 ,  0.7647059 ,  0.7882353 ],\n",
       "         [ 0.9607843 ,  0.7647059 ,  0.7882353 ],\n",
       "         [ 0.9607843 ,  0.7647059 ,  0.7882353 ]],\n",
       "\n",
       "        [[ 0.64705884,  0.4039216 ,  0.36470592],\n",
       "         [ 0.64705884,  0.4039216 ,  0.36470592],\n",
       "         [ 0.64705884,  0.4039216 ,  0.36470592],\n",
       "         ...,\n",
       "         [ 0.9607843 ,  0.7647059 ,  0.7882353 ],\n",
       "         [ 0.9607843 ,  0.7647059 ,  0.7882353 ],\n",
       "         [ 0.9607843 ,  0.7647059 ,  0.7882353 ]]],\n",
       "\n",
       "\n",
       "       [[[-0.44313723, -0.45098037, -0.6156863 ],\n",
       "         [-0.44313723, -0.45098037, -0.6156863 ],\n",
       "         [-0.5058824 , -0.5137255 , -0.654902  ],\n",
       "         ...,\n",
       "         [-0.8352941 , -0.8352941 , -0.81960785],\n",
       "         [-0.827451  , -0.827451  , -0.8117647 ],\n",
       "         [-0.827451  , -0.827451  , -0.8117647 ]],\n",
       "\n",
       "        [[-0.44313723, -0.45098037, -0.6156863 ],\n",
       "         [-0.44313723, -0.45098037, -0.6156863 ],\n",
       "         [-0.5058824 , -0.5137255 , -0.654902  ],\n",
       "         ...,\n",
       "         [-0.8352941 , -0.8352941 , -0.81960785],\n",
       "         [-0.827451  , -0.827451  , -0.8117647 ],\n",
       "         [-0.827451  , -0.827451  , -0.8117647 ]],\n",
       "\n",
       "        [[-0.46666664, -0.47450978, -0.6313726 ],\n",
       "         [-0.46666664, -0.47450978, -0.6313726 ],\n",
       "         [-0.52156866, -0.5372549 , -0.654902  ],\n",
       "         ...,\n",
       "         [-0.8352941 , -0.8352941 , -0.8352941 ],\n",
       "         [-0.827451  , -0.827451  , -0.827451  ],\n",
       "         [-0.827451  , -0.827451  , -0.827451  ]],\n",
       "\n",
       "        ...,\n",
       "\n",
       "        [[ 0.10588241,  0.2313726 ,  0.34901965],\n",
       "         [ 0.10588241,  0.2313726 ,  0.34901965],\n",
       "         [ 0.06666672,  0.19215691,  0.2941177 ],\n",
       "         ...,\n",
       "         [-0.32549018, -0.3098039 , -0.41176468],\n",
       "         [-0.3490196 , -0.3333333 , -0.4352941 ],\n",
       "         [-0.3490196 , -0.3333333 , -0.4352941 ]],\n",
       "\n",
       "        [[ 0.11372554,  0.23921573,  0.35686278],\n",
       "         [ 0.11372554,  0.23921573,  0.35686278],\n",
       "         [ 0.082353  ,  0.20784318,  0.30980396],\n",
       "         ...,\n",
       "         [-0.34117645, -0.32549018, -0.42745095],\n",
       "         [-0.372549  , -0.35686272, -0.4588235 ],\n",
       "         [-0.372549  , -0.35686272, -0.4588235 ]],\n",
       "\n",
       "        [[ 0.11372554,  0.23921573,  0.35686278],\n",
       "         [ 0.11372554,  0.23921573,  0.35686278],\n",
       "         [ 0.082353  ,  0.20784318,  0.30980396],\n",
       "         ...,\n",
       "         [-0.34117645, -0.32549018, -0.42745095],\n",
       "         [-0.372549  , -0.35686272, -0.4588235 ],\n",
       "         [-0.372549  , -0.35686272, -0.4588235 ]]]], dtype=float32)"
      ]
     },
     "execution_count": 13,
     "metadata": {},
     "output_type": "execute_result"
    }
   ],
   "source": [
    "X_train"
   ]
  },
  {
   "cell_type": "code",
   "execution_count": 14,
   "id": "3ecec3cd",
   "metadata": {},
   "outputs": [],
   "source": [
    "aug = ImageDataGenerator(\n",
    "    rotation_range=20,\n",
    "    zoom_range=0.15,\n",
    "    width_shift_range=0.2,\n",
    "    height_shift_range=0.2,\n",
    "    shear_range=0.15,\n",
    "    horizontal_flip=True,\n",
    "    fill_mode=\"nearest\"\n",
    ")"
   ]
  },
  {
   "cell_type": "code",
   "execution_count": 17,
   "id": "a60b2dea",
   "metadata": {},
   "outputs": [
    {
     "name": "stdout",
     "output_type": "stream",
     "text": [
      "WARNING:tensorflow:`input_shape` is undefined or non-square, or `rows` is not in [96, 128, 160, 192, 224]. Weights for input shape (224, 224) will be loaded as the default.\n",
      "Downloading data from https://storage.googleapis.com/tensorflow/keras-applications/mobilenet_v2/mobilenet_v2_weights_tf_dim_ordering_tf_kernels_1.0_224_no_top.h5\n",
      "9406464/9406464 [==============================] - 1s 0us/step\n"
     ]
    }
   ],
   "source": [
    "baseModel = MobileNetV2(weights=\"imagenet\",include_top=False,input_tensor=Input(shape=(224,224,3)))"
   ]
  },
  {
   "cell_type": "code",
   "execution_count": 18,
   "id": "405dcc05",
   "metadata": {},
   "outputs": [],
   "source": [
    "headModel = baseModel.output\n",
    "headModel = AveragePooling2D(pool_size = (7,7))(headModel)\n",
    "headModel = Flatten(name=\"flatten\")(headModel)\n",
    "headModel = Dense(128,activation=\"relu\")(headModel)\n",
    "headModel = Dropout(0.5)(headModel)\n",
    "headModel = Dense(2,activation=\"softmax\")(headModel)"
   ]
  },
  {
   "cell_type": "code",
   "execution_count": 20,
   "id": "bb1eb088",
   "metadata": {},
   "outputs": [],
   "source": [
    "model = Model(inputs=baseModel.input,outputs=headModel)"
   ]
  },
  {
   "cell_type": "code",
   "execution_count": 21,
   "id": "63b263df",
   "metadata": {},
   "outputs": [],
   "source": [
    "for layers in baseModel.layers:\n",
    "    layers.trainable = False"
   ]
  },
  {
   "cell_type": "code",
   "execution_count": 22,
   "id": "bf3cfa7c",
   "metadata": {},
   "outputs": [],
   "source": [
    "model.compile(loss=\"binary_crossentropy\",\n",
    "              optimizer=Adam(learning_rate=initLayer,decay=initLayer/epochs),\n",
    "              metrics=[\"accuracy\"]\n",
    "             )"
   ]
  },
  {
   "cell_type": "code",
   "execution_count": 23,
   "id": "28ce94da",
   "metadata": {},
   "outputs": [
    {
     "name": "stdout",
     "output_type": "stream",
     "text": [
      "Epoch 1/5\n",
      "95/95 [==============================] - 235s 2s/step - loss: 0.4472 - accuracy: 0.8230 - val_loss: 0.1719 - val_accuracy: 0.9739\n",
      "Epoch 2/5\n",
      "95/95 [==============================] - 36s 374ms/step - loss: 0.1590 - accuracy: 0.9680 - val_loss: 0.0882 - val_accuracy: 0.9817\n",
      "Epoch 3/5\n",
      "95/95 [==============================] - 29s 301ms/step - loss: 0.1143 - accuracy: 0.9693 - val_loss: 0.0630 - val_accuracy: 0.9883\n",
      "Epoch 4/5\n",
      "95/95 [==============================] - 29s 300ms/step - loss: 0.0940 - accuracy: 0.9723 - val_loss: 0.0518 - val_accuracy: 0.9883\n",
      "Epoch 5/5\n",
      "95/95 [==============================] - 28s 299ms/step - loss: 0.0731 - accuracy: 0.9815 - val_loss: 0.0450 - val_accuracy: 0.9883\n"
     ]
    }
   ],
   "source": [
    "MOD = model.fit(aug.flow(X_train,y_train,batch_size=batch),\n",
    "               steps_per_epoch=len(X_train)//batch,\n",
    "                validation_data=(X_test,y_test),\n",
    "                validation_steps=len(X_test)//batch,\n",
    "                epochs=epochs\n",
    "               )"
   ]
  },
  {
   "cell_type": "code",
   "execution_count": 24,
   "id": "97173054",
   "metadata": {},
   "outputs": [],
   "source": [
    "model.save(\"mask_detection.model\",save_format=\"h5\")"
   ]
  },
  {
   "cell_type": "code",
   "execution_count": 27,
   "id": "00edde64",
   "metadata": {},
   "outputs": [
    {
     "data": {
      "text/plain": [
       "<matplotlib.legend.Legend at 0x1da5cb099a0>"
      ]
     },
     "execution_count": 27,
     "metadata": {},
     "output_type": "execute_result"
    },
    {
     "data": {
      "image/png": "[encoded data removed]",
      "text/plain": [
       "<Figure size 432x288 with 1 Axes>"
      ]
     },
     "metadata": {},
     "output_type": "display_data"
    }
   ],
   "source": [
    "N = epochs\n",
    "plt.style.use(\"ggplot\")\n",
    "plt.figure()\n",
    "plt.plot(np.arange(0, N), MOD.history[\"loss\"], label=\"train_loss\")\n",
    "plt.plot(np.arange(0, N), MOD.history[\"val_loss\"], label=\"val_loss\")\n",
    "plt.plot(np.arange(0, N), MOD.history[\"accuracy\"], label=\"train_acc\")\n",
    "plt.plot(np.arange(0, N), MOD.history[\"val_accuracy\"], label=\"val_acc\")\n",
    "plt.title(\"Training Loss and Accuracy\")\n",
    "plt.xlabel(\"Epoch #\")\n",
    "plt.ylabel(\"Loss/Accuracy\")\n",
    "plt.legend(loc=\"lower left\")\n",
    "# plt.savefig(\"plot.png\")"
   ]
  },
  {
   "cell_type": "code",
   "execution_count": null,
   "id": "8acc9bb7",
   "metadata": {},
   "outputs": [],
   "source": []
  }
 ],
 "metadata": {
  "kernelspec": {
   "display_name": "tf",
   "language": "python",
   "name": "tf"
  },
  "language_info": {
   "codemirror_mode": {
    "name": "ipython",
    "version": 3
   },
   "file_extension": ".py",
   "mimetype": "text/x-python",
   "name": "python",
   "nbconvert_exporter": "python",
   "pygments_lexer": "ipython3",
   "version": "3.8.8"
  }
 },
 "nbformat": 4,
 "nbformat_minor": 5
}
